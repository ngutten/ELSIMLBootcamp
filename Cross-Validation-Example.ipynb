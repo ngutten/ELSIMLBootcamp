{
 "cells": [
  {
   "cell_type": "code",
   "execution_count": 1,
   "metadata": {},
   "outputs": [],
   "source": [
    "%matplotlib inline\n",
    "\n",
    "import numpy as np\n",
    "import matplotlib.pyplot as plt\n",
    "\n",
    "# Dataset loader for IRIS\n",
    "from sklearn.datasets import load_iris\n",
    "\n",
    "from sklearn.model_selection import StratifiedShuffleSplit\n",
    "\n",
    "# Support vector machine - learns coefficients of a function basis-set \n",
    "# (Gaussians, for example) in order to construct a decision boundary.\n",
    "from sklearn.svm import SVC"
   ]
  },
  {
   "cell_type": "code",
   "execution_count": 2,
   "metadata": {},
   "outputs": [
    {
     "name": "stdout",
     "output_type": "stream",
     "text": [
      "Dataset has 150 rows, 4 features\n"
     ]
    }
   ],
   "source": [
    "iris_data = load_iris()\n",
    "\n",
    "x = iris_data['data']\n",
    "y = iris_data['target']\n",
    "\n",
    "# This data is not shuffled (labels are 0,0,0,0,...,1,1,1,1,...,2,2,2,2)\n",
    "# So let's shuffle it with a fixed random seed\n",
    "np.random.seed(12345)\n",
    "idx = np.random.permutation(x.shape[0])\n",
    "x = x[idx]\n",
    "y = y[idx]\n",
    "\n",
    "print(\"Dataset has %d rows, %d features\" % (x.shape[0], x.shape[1]))"
   ]
  },
  {
   "cell_type": "code",
   "execution_count": 6,
   "metadata": {},
   "outputs": [
    {
     "name": "stdout",
     "output_type": "stream",
     "text": [
      "CV fold 1 accuracy is: 0.977778\n",
      "CV fold 2 accuracy is: 0.955556\n",
      "CV fold 3 accuracy is: 1\n",
      "CV fold 4 accuracy is: 0.955556\n",
      "CV fold 5 accuracy is: 0.933333\n",
      "CV fold 6 accuracy is: 0.911111\n",
      "CV fold 7 accuracy is: 0.977778\n",
      "CV fold 8 accuracy is: 1\n",
      "CV fold 9 accuracy is: 0.977778\n",
      "CV fold 10 accuracy is: 0.977778\n",
      "CV results: mean = 0.966667, stdev = 0.0267591\n"
     ]
    }
   ],
   "source": [
    "# Make a train/test split\n",
    "split = StratifiedShuffleSplit(n_splits=10, test_size = 0.3)\n",
    "split.get_n_splits(x,y)\n",
    "idx = 1\n",
    "\n",
    "cvs = []\n",
    "\n",
    "for train_idx, test_idx in split.split(x,y):\n",
    "    train_x = x[train_idx]\n",
    "    train_y = y[train_idx]\n",
    "\n",
    "    test_x = x[test_idx]\n",
    "    test_y = y[test_idx]\n",
    "    \n",
    "    classifier = SVC(C=1, gamma=1)\n",
    "\n",
    "    classifier.fit(train_x, train_y)\n",
    "\n",
    "    p = classifier.predict(test_x)\n",
    "\n",
    "    print(\"CV fold %d accuracy is: %.6g\" % (idx, np.mean(p==test_y)))\n",
    "    cvs.append(np.mean(p==test_y))\n",
    "    idx += 1\n",
    "    \n",
    "print(\"CV results: mean = %.6g, stdev = %.6g\" % (np.mean(cvs), np.std(cvs)))"
   ]
  },
  {
   "cell_type": "code",
   "execution_count": null,
   "metadata": {},
   "outputs": [],
   "source": []
  }
 ],
 "metadata": {
  "kernelspec": {
   "display_name": "Python 3",
   "language": "python",
   "name": "python3"
  },
  "language_info": {
   "codemirror_mode": {
    "name": "ipython",
    "version": 3
   },
   "file_extension": ".py",
   "mimetype": "text/x-python",
   "name": "python",
   "nbconvert_exporter": "python",
   "pygments_lexer": "ipython3",
   "version": "3.6.3"
  }
 },
 "nbformat": 4,
 "nbformat_minor": 2
}
